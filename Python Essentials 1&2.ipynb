{
 "cells": [
  {
   "cell_type": "markdown",
   "metadata": {},
   "source": [
    "### PYTHON ESSENTIALS"
   ]
  },
  {
   "cell_type": "markdown",
   "metadata": {},
   "source": [
    "Cisco Skills For All - Python Essentials 1 & 2"
   ]
  },
  {
   "cell_type": "markdown",
   "metadata": {},
   "source": [
    "### THE VERY FIRST PROGRAM"
   ]
  },
  {
   "cell_type": "code",
   "execution_count": 2,
   "metadata": {},
   "outputs": [
    {
     "name": "stdout",
     "output_type": "stream",
     "text": [
      "Hello, World!\n"
     ]
    }
   ],
   "source": [
    "# The very first program, that is, print(\"hello, world!\") consists of \n",
    "# The word - print\n",
    "# An opening and closing parenthesis\n",
    "# Quotation marks \n",
    "# And a sequence of characters that is to be printed\n",
    "# More over, the print function is a built-in function, meaning it may come from Python itself!\n",
    "# In some cases, some functions need to be imported using modules, they may be user-defined functions.\n",
    "\n",
    "\n",
    "print(\"Hello, World!\")"
   ]
  },
  {
   "cell_type": "markdown",
   "metadata": {},
   "source": [
    "### FUNCTION ARGUMENTS"
   ]
  },
  {
   "cell_type": "code",
   "execution_count": 4,
   "metadata": {},
   "outputs": [
    {
     "name": "stdout",
     "output_type": "stream",
     "text": [
      "Hello, World!\n"
     ]
    }
   ],
   "source": [
    "# The only argument delivered to the print() function in this example is a string:\n",
    "print(\"Hello, World!\")"
   ]
  },
  {
   "cell_type": "markdown",
   "metadata": {},
   "source": [
    "What happens when Python encounters an invocation like this one below?\n",
    "\n",
    "function_name(argument)\n",
    "\n",
    "* First, Python checks if the name specified is legal (it browses its internal data in order to find an existing function of the name; if this search fails, Python aborts the code)\n",
    "\n",
    "* Second, Python checks if the function's requirements for the number of arguments allows you to invoke the function in this way (e.g., if a specific function demands exactly two arguments, any invocation delivering only one argument will be considered erroneous, and will abort the code's execution)\n",
    "\n",
    "* Third, Python leaves your code for a moment and jumps into the function you want to invoke; of course, it takes your argument(s) too and passes it/them to the function;\n",
    "\n",
    "* Fourth, the function executes its code, causes the desired effect (if any), evaluates the desired result(s) (if any) and finishes its task;\n",
    "\n",
    "* Finally, Python returns to your code (to the place just after the invocation) and resumes its execution.\n",
    " Any keyword arguments have to be put after the last positional argument.\n"
   ]
  },
  {
   "cell_type": "markdown",
   "metadata": {},
   "source": [
    "### KEYWORD ARGUMENTS"
   ]
  },
  {
   "cell_type": "markdown",
   "metadata": {},
   "source": [
    "- The print() function has two keyword arguments that you can use for your purposes. The first is called end."
   ]
  },
  {
   "cell_type": "code",
   "execution_count": 7,
   "metadata": {},
   "outputs": [
    {
     "name": "stdout",
     "output_type": "stream",
     "text": [
      "Hello, World!\n"
     ]
    }
   ],
   "source": [
    "print(\"Hello,\", end=\" \")\n",
    "print(\"World!\")\n"
   ]
  },
  {
   "cell_type": "markdown",
   "metadata": {},
   "source": [
    "- Another kind of argument the print function takes is the sep. Which separates each arguement passed to the function with the desired character."
   ]
  },
  {
   "cell_type": "code",
   "execution_count": 11,
   "metadata": {},
   "outputs": [
    {
     "name": "stdout",
     "output_type": "stream",
     "text": [
      "Hello~World\n",
      "Hello\n",
      "world\n"
     ]
    }
   ],
   "source": [
    "print(\"Hello\", \"World\", sep=\"~\")\n",
    "print(\"Hello\", \"world\", sep=\"\\n\")"
   ]
  },
  {
   "cell_type": "code",
   "execution_count": 12,
   "metadata": {},
   "outputs": [
    {
     "name": "stdout",
     "output_type": "stream",
     "text": [
      "this is without using the sep keyword\n",
      "this-is-with-the-sep-keyword\n"
     ]
    }
   ],
   "source": [
    "print(\"this\", \"is\", \"without\", \"using\", \"the\", \"sep\", \"keyword\")\n",
    "print(\"this\", \"is\", \"with\", \"the\", \"sep\", \"keyword\", sep=\"-\")"
   ]
  },
  {
   "cell_type": "markdown",
   "metadata": {},
   "source": [
    "Both keyword arguments may be mixed in one invocation"
   ]
  },
  {
   "cell_type": "code",
   "execution_count": 15,
   "metadata": {},
   "outputs": [
    {
     "name": "stdout",
     "output_type": "stream",
     "text": [
      "this-is*the~new~world\n"
     ]
    }
   ],
   "source": [
    "print(\"this\", \"is\", sep=\"-\", end=\"*\")\n",
    "print(\"the\", \"new\", \"world\", sep=\"~\")"
   ]
  },
  {
   "cell_type": "markdown",
   "metadata": {},
   "source": [
    "### SUMMARY"
   ]
  },
  {
   "cell_type": "raw",
   "metadata": {},
   "source": [
    "1. The print() function is a built-in function. It prints/outputs a specified message to the screen/console window.\n",
    "\n",
    "2. Built-in functions, contrary to user-defined functions, are always available and don't have to be imported. Python 3.8 comes with 69 built-in functions. You can find their full list provided in alphabetical order in the Python Standard Library.\n",
    "\n",
    "3. To call a function (this process is known as function invocation or function call), you need to use the function name followed by parentheses. You can pass arguments into a function by placing them inside the parentheses. You must separate arguments with a comma, e.g., print(\"Hello,\", \"world!\"). An \"empty\" print() function outputs an empty line to the screen.\n",
    "\n",
    "4. Python strings are delimited with quotes, e.g., \"I am a string\" (double quotes), or 'I am a string, too' (single quotes).\n",
    "\n",
    "5. Computer programs are collections of instructions. An instruction is a command to perform a specific task when executed, e.g., to print a certain message to the screen.\n",
    "\n",
    "6. In Python strings the backslash (\\) is a special character which announces that the next character has a different meaning, e.g., \\n (the newline character) starts a new output line.\n",
    "\n",
    "7. Positional arguments are the ones whose meaning is dictated by their position, e.g., the second argument is outputted after the first, the third is outputted after the second, etc.\n",
    "\n",
    "8. Keyword arguments are the ones whose meaning is not dictated by their location, but by a special word (keyword) used to identify them.\n",
    "\n",
    "9. The end and sep parameters can be used for formatting the output of the print() function. The sep parameter specifies the separator between the outputted arguments, e.g., print(\"H\", \"E\", \"L\", \"L\", \"O\", sep=\"-\"), whereas the end parameter specifies what to print at the end of the print statement."
   ]
  },
  {
   "cell_type": "markdown",
   "metadata": {},
   "source": [
    "### LITERALS"
   ]
  },
  {
   "cell_type": "markdown",
   "metadata": {},
   "source": [
    "- A literal is data whose values are determined by the literal itself.\n"
   ]
  },
  {
   "cell_type": "markdown",
   "metadata": {},
   "source": [
    "### INTEGERS"
   ]
  },
  {
   "cell_type": "markdown",
   "metadata": {},
   "source": [
    "- Integers are nothing but numeric literals of the type int. These are devoid of the fractional part.\n",
    "- e.g., 2,3,54,55\n",
    "- Since python doesn't allow whitespaces between any characters or numbers, in order to separate large numbers we can use underscores or simply without any spaces.\n",
    "- e.g., 111_111_111 (this is completely fine and acceptable)\n",
    "- 111 1 11 (this on the other hand would throw an error)\n",
    "\n",
    "print(1_111_111)  # use underscores to improve readability of large numbers\n",
    "print(-1_111_111)"
   ]
  },
  {
   "cell_type": "markdown",
   "metadata": {},
   "source": [
    "### Octal and hexadecimal numbers"
   ]
  },
  {
   "cell_type": "markdown",
   "metadata": {},
   "source": [
    "- If an integer number is preceded by an 0O or 0o prefix (zero-o), it will be treated as an octal value. This means that the number must contain digits taken from the [0..7] range only.\n",
    "- The print() function does the conversion automatically."
   ]
  },
  {
   "cell_type": "code",
   "execution_count": 16,
   "metadata": {},
   "outputs": [
    {
     "name": "stdout",
     "output_type": "stream",
     "text": [
      "83\n"
     ]
    }
   ],
   "source": [
    "print(0o123)\n"
   ]
  },
  {
   "cell_type": "markdown",
   "metadata": {},
   "source": [
    "- The second convention allows us to use hexadecimal numbers. Such numbers should be preceded by the prefix 0x or 0X (zero-x).\n",
    "\n",
    "- 0x123 is a hexadecimal number with a (decimal) value equal to 291. The print() function can manage these values too."
   ]
  },
  {
   "cell_type": "code",
   "execution_count": 17,
   "metadata": {},
   "outputs": [
    {
     "name": "stdout",
     "output_type": "stream",
     "text": [
      "291\n"
     ]
    }
   ],
   "source": [
    "print(0x123)\n"
   ]
  },
  {
   "cell_type": "markdown",
   "metadata": {},
   "source": [
    "### FLOATS"
   ]
  },
  {
   "cell_type": "markdown",
   "metadata": {},
   "source": [
    "- They are the numbers that have (or may have) a fractional part after the decimal point\n",
    "- e.g., 2.5, 0.4, -0.5\n",
    "\n"
   ]
  },
  {
   "cell_type": "code",
   "execution_count": 18,
   "metadata": {},
   "outputs": [
    {
     "name": "stdout",
     "output_type": "stream",
     "text": [
      "-0.4\n",
      "4\n",
      "4.0\n"
     ]
    }
   ],
   "source": [
    "print(-0.4)  # the dot is what qualifies this to be a float\n",
    "print(4)     # this is an integer\n",
    "print(4.0)   # this is a float"
   ]
  },
  {
   "cell_type": "markdown",
   "metadata": {},
   "source": [
    "### REPRESENTING STRINGS"
   ]
  },
  {
   "cell_type": "code",
   "execution_count": 22,
   "metadata": {},
   "outputs": [
    {
     "name": "stdout",
     "output_type": "stream",
     "text": [
      "this is a string!\n",
      "this is also\n",
      "a string!\n",
      "my name is \"Monty Python\"!\n",
      "my name is \"Monty Python\"!\n"
     ]
    }
   ],
   "source": [
    "print(\"this is a string!\")\n",
    "print(\"this is also\\na string!\")\n",
    "\n",
    "#if the string contains double quotes, then enclose the string within single quotes\n",
    "\n",
    "print('my name is \"Monty Python\"!')\n",
    "\n",
    "#or another way of doing the same with double quotes would be\n",
    "\n",
    "print(\"my name is \\\"Monty Python\\\"!\")"
   ]
  },
  {
   "cell_type": "markdown",
   "metadata": {},
   "source": [
    "### BOOLEANS"
   ]
  },
  {
   "cell_type": "code",
   "execution_count": 26,
   "metadata": {},
   "outputs": [
    {
     "name": "stdout",
     "output_type": "stream",
     "text": [
      "False\n",
      "True\n",
      "True\n",
      "False\n",
      "True\n",
      "False\n"
     ]
    }
   ],
   "source": [
    "#Booleans are True or False values\n",
    "#True equates to a value of 1 and False to a value of 0\n",
    "\n",
    "print(1==2)\n",
    "print(1!=2)\n",
    "\n",
    "print(True>False)\n",
    "print(True<False)\n",
    "print(True!=False)\n",
    "print(True==False)"
   ]
  },
  {
   "cell_type": "markdown",
   "metadata": {},
   "source": [
    "### SUMMARY"
   ]
  },
  {
   "cell_type": "markdown",
   "metadata": {},
   "source": [
    "1. Literals are notations for representing some fixed values in code. Python has various types of literals - for example, a literal can be a number (numeric literals, e.g., 123), or a string (string literals, e.g., \"I am a literal.\").\n",
    "\n",
    "2. The binary system is a system of numbers that employs 2 as the base. Therefore, a binary number is made up of 0s and 1s only, e.g., 1010 is 10 in decimal.\n",
    "\n",
    "- Octal and hexadecimal numeration systems, similarly, employ 8 and 16 as their bases respectively. The hexadecimal system uses the decimal numbers and six extra letters.\n",
    "\n",
    "3. Integers (or simply ints) are one of the numerical types supported by Python. They are numbers written without a fractional component, e.g., 256, or -1 (negative integers).\n",
    "\n",
    "4. Floating-point numbers (or simply floats) are another one of the numerical types supported by Python. They are numbers that contain (or are able to contain) a fractional component, e.g., 1.27.\n",
    "\n",
    "5. To encode an apostrophe or a quote inside a string, you can either use the escape character, e.g., 'I\\'m happy.', or open and close the string using an opposite set of symbols to the ones you wish to encode, e.g., \"I'm happy.\" to encode an apostrophe, and 'He said \"Python\", not \"typhoon\"' to encode a (double) quote.\n",
    "\n",
    "6. Boolean values are the two constant objects True and False used to represent truth values (in numeric contexts 1 is True, while 0 is False."
   ]
  },
  {
   "cell_type": "markdown",
   "metadata": {},
   "source": [
    "### OPERATORS - DATA MANIPULATION TOOLS"
   ]
  },
  {
   "cell_type": "code",
   "execution_count": 28,
   "metadata": {},
   "outputs": [
    {
     "name": "stdout",
     "output_type": "stream",
     "text": [
      "4\n",
      "2\n",
      "8\n",
      "2.0\n",
      "1\n",
      "0\n",
      "4\n"
     ]
    }
   ],
   "source": [
    "#operators help with manipulating the data by allowing the user to perform arithmetic operations \n",
    "#they can be +, -, *, /, //, %, **\n",
    "\n",
    "print(2+2)\n",
    "\n",
    "print(4-2)\n",
    "\n",
    "print(4*2)\n",
    "\n",
    "print(4/2)\n",
    "\n",
    "print(13//10)\n",
    "\n",
    "print(10%5)\n",
    "\n",
    "print(2**2)"
   ]
  },
  {
   "cell_type": "markdown",
   "metadata": {},
   "source": [
    "### OPERATOR PRECEDENCE"
   ]
  },
  {
   "cell_type": "markdown",
   "metadata": {},
   "source": [
    "1. _An expression is a combination of values (or variables, operators, calls to functions ‒ you will learn about them soon) which evaluates to a certain value, e.g., 1 + 2._\n",
    "\n",
    "\n",
    "2. _Operators are special symbols or keywords which are able to operate on the values and perform (mathematical) operations, e.g., the * operator multiplies two values: x * y._\n",
    "\n",
    "\n",
    "3. _Arithmetic operators in Python: + (addition), - (subtraction), * (multiplication), / (classic division ‒ always returns a float), % (modulus ‒ divides left operand by right operand and returns the remainder of the operation, e.g., 5 % 2 = 1), ** (exponentiation ‒ left operand raised to the power of right operand, e.g., 2 ** 3 = 2 * 2 * 2 = 8), // (floor/integer division ‒ returns a number resulting from division, but rounded down to the nearest whole number, e.g., 3 // 2.0 = 1.0)_\n",
    "\n",
    "\n",
    "4. _A unary operator is an operator with only one operand, e.g., -1, or +3._\n",
    "\n",
    "\n",
    "5. _A binary operator is an operator with two operands, e.g., 4 + 5, or 12 % 5._\n",
    "\n",
    "\n",
    "6. _Some operators act before others - the hierarchy of priorities:_\n",
    "\n",
    "\n",
    "_the ** operator (exponentiation) has the highest priority;\n",
    "then the unary + and - (note: a unary operator to the right of the exponentiation operator binds more strongly, for example 4 ** -1 equals 0.25)\n",
    "then: *, /, and %,\n",
    "and finally, the lowest priority: binary + and -._\n",
    "\n",
    "7. _Subexpressions in parentheses are always calculated first, e.g., 15 - 1 * (5 * (1 + 2)) = 0._\n",
    "\n",
    "\n",
    "8. _The exponentiation operator uses right-sided binding, e.g., 2 ** 2 ** 3 = 256._"
   ]
  },
  {
   "cell_type": "code",
   "execution_count": 35,
   "metadata": {},
   "outputs": [
    {
     "name": "stdout",
     "output_type": "stream",
     "text": [
      "1\n",
      "256\n",
      "Result of 7/3 :  2.3333333333333335\n",
      "Result of 7//3 :  2\n",
      "-1\n"
     ]
    }
   ],
   "source": [
    "#**, Unary (+,-) , * , / , //, %, Binary (+,-_)\n",
    "print(9 % 6 % 2)\n",
    "\n",
    "#There are two possible ways of evaluating this expression:\n",
    "\n",
    "#from left to right: first 9 % 6 gives 3, and then 3 % 2 gives 1;\n",
    "#from right to left: first 6 % 2 gives 0, and then 9 % 0 causes a fatal error.\n",
    "#In case of two operators with equal precedence - go from left to right except for the expoentiation operator\n",
    "#which uses right-sided binding\n",
    "\n",
    "print(2 ** 2 ** 3)\n",
    "\n",
    "print(\"Result of 7/3 : \",7/3)   # the result is always a float\n",
    "print(\"Result of 7//3 : \",7//3)  # floor division, when it is a negative result, this gets ROUNDED to the LESSER INTEGER\n",
    "print(-1//2)\n"
   ]
  },
  {
   "cell_type": "markdown",
   "metadata": {},
   "source": [
    "### VARIABLES"
   ]
  },
  {
   "cell_type": "markdown",
   "metadata": {},
   "source": [
    "- _A variable is a named location reserved to store values in the memory. A variable is created or initialized automatically when you assign a value to it for the first time._\n",
    "\n",
    "\n",
    "- _Each variable must have a unique name ‒ an identifier. A legal identifier name must be a non-empty sequence of characters, must begin with the underscore(_), or a letter, and it cannot be a Python keyword. The first character may be followed by underscores, letters, and digits. Identifiers in Python are case-sensitive._\n",
    "\n",
    "\n",
    "- _Python is a dynamically-typed language, which means you don't need to declare variables in it. To assign values to variables, you can use a simple assignment operator in the form of the equal (=) sign, i.e., var = 1._\n",
    "\n",
    "\n",
    "- _You can also use compound assignment operators (shortcut operators) to modify values assigned to variables, for example: var += 1, or var /= 5 * 2._"
   ]
  },
  {
   "cell_type": "code",
   "execution_count": 39,
   "metadata": {},
   "outputs": [
    {
     "name": "stdout",
     "output_type": "stream",
     "text": [
      "5 6 2\n",
      "total apples: 13\n"
     ]
    }
   ],
   "source": [
    "john=5\n",
    "mary=6\n",
    "adam=2\n",
    "\n",
    "print(john, mary, adam)\n",
    "\n",
    "total_apples = john+mary+adam\n",
    "print(\"total apples:\", total_apples)"
   ]
  },
  {
   "cell_type": "markdown",
   "metadata": {},
   "source": [
    "### INTERACTION WITH THE USER"
   ]
  },
  {
   "cell_type": "markdown",
   "metadata": {},
   "source": [
    "- _The print() function sends data to the console, while the input() function gets data from the console._\n",
    "\n",
    "\n",
    "- _The input() function comes with an optional parameter: the prompt string. It allows you to write a message before the user input_\n",
    "\n",
    "\n",
    "- _When the input() function is called, the program's flow is stopped, the prompt symbol keeps blinking (it prompts the user to take action when the console is switched to input mode) until the user has entered an input and/or pressed the Enter key._\n",
    "\n",
    "\n",
    "- _The result of the input() function is a string._"
   ]
  },
  {
   "cell_type": "code",
   "execution_count": 40,
   "metadata": {},
   "outputs": [
    {
     "name": "stdout",
     "output_type": "stream",
     "text": [
      "Tell me anything...it's cold outside!\n",
      "Hmm... it's cold outside! ...Really?\n"
     ]
    }
   ],
   "source": [
    "anything = input(\"Tell me anything...\")\n",
    "print(\"Hmm...\", anything, \"...Really?\")\n",
    "\n"
   ]
  },
  {
   "cell_type": "markdown",
   "metadata": {},
   "source": [
    "### TYPE CONVERSION"
   ]
  },
  {
   "cell_type": "code",
   "execution_count": 1,
   "metadata": {},
   "outputs": [
    {
     "name": "stdout",
     "output_type": "stream",
     "text": [
      "Enter a number: 5\n",
      "5.0 to the power of 2 is 25.0\n"
     ]
    }
   ],
   "source": [
    "# functions available - str(), int(), float()\n",
    "anything = float(input(\"Enter a number: \"))\n",
    "something = anything ** 2.0\n",
    "print(anything, \"to the power of 2 is\", something)\n"
   ]
  },
  {
   "cell_type": "markdown",
   "metadata": {},
   "source": [
    "### CONDITIONALS"
   ]
  },
  {
   "cell_type": "code",
   "execution_count": 2,
   "metadata": {},
   "outputs": [
    {
     "name": "stdout",
     "output_type": "stream",
     "text": [
      "what's the weather like? rainy\n",
      "time for a nap!\n"
     ]
    }
   ],
   "source": [
    "#If Conditionals\n",
    "\n",
    "weather = input(\"what's the weather like? \")\n",
    "if weather == \"sunny\":\n",
    "    print(\"let's go for a walk\")\n",
    "print(\"time for a nap!\")"
   ]
  },
  {
   "cell_type": "code",
   "execution_count": 6,
   "metadata": {},
   "outputs": [
    {
     "name": "stdout",
     "output_type": "stream",
     "text": [
      "enter your age: 14\n",
      "you're 4 years too young!\n"
     ]
    }
   ],
   "source": [
    "#if-else\n",
    "\n",
    "age = int(input(\"enter your age: \"))\n",
    "if age >= 18:\n",
    "    print(\"you are eligible to vote!\")\n",
    "    \n",
    "else:\n",
    "    print(\"you're\", str(18-age), \"years too young!\")"
   ]
  },
  {
   "cell_type": "code",
   "execution_count": 9,
   "metadata": {},
   "outputs": [
    {
     "name": "stdout",
     "output_type": "stream",
     "text": [
      "num1: 5\n",
      "num2: 10\n",
      "num3: 9\n",
      "10 is the greatest of the three!\n"
     ]
    }
   ],
   "source": [
    "#nested if-else\n",
    "num1= int(input(\"num1: \"))\n",
    "num2 = int(input(\"num2: \"))\n",
    "num3 = int(input(\"num3: \"))\n",
    "\n",
    "if num1>num2:\n",
    "    if num1>num3:\n",
    "        print(str(num1), \"is the greatest of the three!\")\n",
    "        \n",
    "    else:\n",
    "        print(str(num3), \"is the greatets of the three!\")\n",
    "else:\n",
    "    print(str(num2), \"is the greatest of the three!\")\n",
    "\n"
   ]
  },
  {
   "cell_type": "markdown",
   "metadata": {},
   "source": [
    "### LOOPS"
   ]
  },
  {
   "cell_type": "markdown",
   "metadata": {},
   "source": [
    "#### FOR LOOPS"
   ]
  },
  {
   "cell_type": "code",
   "execution_count": 10,
   "metadata": {},
   "outputs": [
    {
     "name": "stdout",
     "output_type": "stream",
     "text": [
      "The value of i is currently 2\n",
      "The value of i is currently 4\n",
      "The value of i is currently 6\n",
      "\n",
      "5\n",
      "4\n",
      "3\n"
     ]
    }
   ],
   "source": [
    "for i in range(2,8,2):\n",
    "    print(\"The value of i is currently\", i)\n",
    "\n",
    "    \n",
    "print()\n",
    "\n",
    "for i in range(5,2,-1):\n",
    "    print(i)\n",
    "    \n"
   ]
  },
  {
   "cell_type": "markdown",
   "metadata": {},
   "source": [
    "### BREAK AND CONTINUE"
   ]
  },
  {
   "cell_type": "code",
   "execution_count": 16,
   "metadata": {},
   "outputs": [
    {
     "name": "stdout",
     "output_type": "stream",
     "text": [
      "The break instruction:\n",
      "Inside the loop. 1\n",
      "Inside the loop. 2\n",
      "Outside the loop.\n"
     ]
    }
   ],
   "source": [
    "# break - example\n",
    "\n",
    "print(\"The break instruction:\")\n",
    "for i in range(1, 6):\n",
    "    if i == 3:\n",
    "        break\n",
    "    print(\"Inside the loop.\", i)\n",
    "print(\"Outside the loop.\")\n",
    "\n",
    "print()\n"
   ]
  },
  {
   "cell_type": "markdown",
   "metadata": {},
   "source": [
    "### LOGIC AND BIT OPERATIONS"
   ]
  },
  {
   "cell_type": "code",
   "execution_count": 1,
   "metadata": {},
   "outputs": [
    {
     "name": "stdout",
     "output_type": "stream",
     "text": [
      "a AND b False\n",
      "a OR b True\n",
      "Negation of a is  False\n"
     ]
    }
   ],
   "source": [
    "#and, or, not\n",
    "a = True\n",
    "b = False\n",
    "\n",
    "# and is the CONJUNCTION binary operator\n",
    "print(\"a AND b\",a and b)  \n",
    "# or is the DISJUNCTION binary operator\n",
    "print(\"a OR b\",a or b)   \n",
    "# not is the NEGATION unary operator\n",
    "print(\"Negation of a is \",not a)\n"
   ]
  },
  {
   "cell_type": "markdown",
   "metadata": {},
   "source": [
    "### LISTS"
   ]
  },
  {
   "cell_type": "markdown",
   "metadata": {},
   "source": [
    "- It is an ordered and mutable collection of comma-separated items between square brackets\n",
    "- Lists can be indexed and updated\n",
    "- Lists can be nested\n",
    "- List elements and lists can be deleted\n",
    "- Lists can be iterated through using the for loop\n",
    "- The len() function may be used to check the list's length\n",
    "- A typical function invocation looks as follows: result = function(arg), while a typical method invocation looks like this:result = data.method(arg)"
   ]
  },
  {
   "cell_type": "code",
   "execution_count": 2,
   "metadata": {},
   "outputs": [],
   "source": [
    "my_list = ['one','two','three',4,5]"
   ]
  },
  {
   "cell_type": "code",
   "execution_count": 3,
   "metadata": {},
   "outputs": [
    {
     "data": {
      "text/plain": [
       "'one'"
      ]
     },
     "execution_count": 3,
     "metadata": {},
     "output_type": "execute_result"
    }
   ],
   "source": [
    "# Grab element at index 0\n",
    "my_list[0]"
   ]
  },
  {
   "cell_type": "code",
   "execution_count": 4,
   "metadata": {},
   "outputs": [
    {
     "data": {
      "text/plain": [
       "['two', 'three', 4, 5]"
      ]
     },
     "execution_count": 4,
     "metadata": {},
     "output_type": "execute_result"
    }
   ],
   "source": [
    "# Grab index 1 and everything past it\n",
    "my_list[1:]"
   ]
  },
  {
   "cell_type": "code",
   "execution_count": 5,
   "metadata": {},
   "outputs": [
    {
     "data": {
      "text/plain": [
       "['one', 'two', 'three']"
      ]
     },
     "execution_count": 5,
     "metadata": {},
     "output_type": "execute_result"
    }
   ],
   "source": [
    "# Grab everything UP TO index 3\n",
    "my_list[:3]"
   ]
  },
  {
   "cell_type": "markdown",
   "metadata": {},
   "source": [
    "We can also use + to concatenate lists, just like we did for strings."
   ]
  },
  {
   "cell_type": "code",
   "execution_count": 7,
   "metadata": {},
   "outputs": [
    {
     "data": {
      "text/plain": [
       "['one', 'two', 'three', 4, 5, 'new item']"
      ]
     },
     "execution_count": 7,
     "metadata": {},
     "output_type": "execute_result"
    }
   ],
   "source": [
    "my_list + ['new item']"
   ]
  },
  {
   "cell_type": "markdown",
   "metadata": {},
   "source": [
    "Note: This doesn't actually change the original list!"
   ]
  },
  {
   "cell_type": "code",
   "execution_count": 8,
   "metadata": {},
   "outputs": [
    {
     "data": {
      "text/plain": [
       "['one', 'two', 'three', 4, 5]"
      ]
     },
     "execution_count": 8,
     "metadata": {},
     "output_type": "execute_result"
    }
   ],
   "source": [
    "my_list"
   ]
  },
  {
   "cell_type": "markdown",
   "metadata": {},
   "source": [
    "You would have to reassign the list to make the change permanent."
   ]
  },
  {
   "cell_type": "code",
   "execution_count": 10,
   "metadata": {},
   "outputs": [],
   "source": [
    "# Reassign\n",
    "my_list = my_list + ['add new item permanently']"
   ]
  },
  {
   "cell_type": "code",
   "execution_count": 11,
   "metadata": {},
   "outputs": [
    {
     "data": {
      "text/plain": [
       "['one', 'two', 'three', 4, 5, 'add new item permanently']"
      ]
     },
     "execution_count": 11,
     "metadata": {},
     "output_type": "execute_result"
    }
   ],
   "source": [
    "my_list"
   ]
  },
  {
   "cell_type": "markdown",
   "metadata": {},
   "source": [
    "We can also use the * for a duplication method similar to strings:"
   ]
  },
  {
   "cell_type": "code",
   "execution_count": 12,
   "metadata": {},
   "outputs": [
    {
     "data": {
      "text/plain": [
       "['one',\n",
       " 'two',\n",
       " 'three',\n",
       " 4,\n",
       " 5,\n",
       " 'add new item permanently',\n",
       " 'one',\n",
       " 'two',\n",
       " 'three',\n",
       " 4,\n",
       " 5,\n",
       " 'add new item permanently']"
      ]
     },
     "execution_count": 12,
     "metadata": {},
     "output_type": "execute_result"
    }
   ],
   "source": [
    "# Make the list double\n",
    "my_list * 2"
   ]
  },
  {
   "cell_type": "code",
   "execution_count": 15,
   "metadata": {},
   "outputs": [
    {
     "data": {
      "text/plain": [
       "['one', 'two', 'three', 4, 5, 'add new item permanently']"
      ]
     },
     "execution_count": 15,
     "metadata": {},
     "output_type": "execute_result"
    }
   ],
   "source": [
    "# Again, doubling is not permanent\n",
    "my_list"
   ]
  },
  {
   "cell_type": "code",
   "execution_count": 36,
   "metadata": {},
   "outputs": [
    {
     "name": "stdout",
     "output_type": "stream",
     "text": [
      "['one', 'two', 'three', 4, 5]\n",
      "['one', 'two', 'three', 4, 5, 'add new item permanently']\n"
     ]
    }
   ],
   "source": [
    "#len function\n",
    "len(my_list)\n",
    "\n",
    "#removing elements from a list\n",
    "#before removing\n",
    "print(my_list)\n",
    "my_list.append('add new item permanently')\n",
    "#after removing\n",
    "print(my_list)\n",
    "\n",
    "#using del\n",
    "del my_list[2]\n",
    "\n"
   ]
  },
  {
   "cell_type": "markdown",
   "metadata": {},
   "source": [
    "#### _iterating through lists_\n"
   ]
  },
  {
   "cell_type": "code",
   "execution_count": 2,
   "metadata": {},
   "outputs": [
    {
     "name": "stdout",
     "output_type": "stream",
     "text": [
      "30\n",
      "actual list   --> [4, 5, 6, 7]\n",
      "reversed list --> [7, 6, 5, 4]\n"
     ]
    }
   ],
   "source": [
    "even_numbers = [2,4,6,8,10]\n",
    "\n",
    "total = 0\n",
    "\n",
    "for i in even_numbers:\n",
    "    total += i\n",
    "    \n",
    "print(total)\n",
    "\n",
    "## swapping elements in a list and achieving reverse order\n",
    "\n",
    "test_list = [4,5,6,7]\n",
    "\n",
    "print(\"actual list   -->\", test_list)\n",
    "\n",
    "test_list[0],test_list[3] = test_list[3],test_list[0]  # this swapping is without an auxiliary or temporary variable\n",
    "test_list[1],test_list[2] = test_list[2],test_list[1]\n",
    "\n",
    "print(\"reversed list -->\", test_list)"
   ]
  },
  {
   "cell_type": "markdown",
   "metadata": {},
   "source": [
    "#### _slicing lists_"
   ]
  },
  {
   "cell_type": "code",
   "execution_count": 4,
   "metadata": {},
   "outputs": [
    {
     "name": "stdout",
     "output_type": "stream",
     "text": [
      "sliced list --> [10, 6]\n",
      "another list created by slicing --> [10, 8, 6, 4, 2]\n",
      "my_list --> [10, 8, 'changed element in list 1', 4, 2]\n",
      "ma_list --> [10, 8, 'changed element in list 1', 4, 2]\n"
     ]
    }
   ],
   "source": [
    "my_list = [10, 8, 6, 4, 2]\n",
    "\n",
    "print(\"sliced list -->\", my_list[0:4:2]) # list[start:end:length] --> all these three are optional.\n",
    "\n",
    "my_another_list = my_list[:] # this will slice the entire list and CREATE A COPY of the list.\n",
    "\n",
    "# if we want to copy the contents of a list into another list, slicing is the go to option. as list_1 = list_2 assignment\n",
    "# will make the two lists point to same place in memory & any change in either of the lists will get reflected in another.\n",
    "print(\"another list created by slicing -->\",my_another_list)\n",
    "\n",
    "# slicing list[start:end] both 'start' & 'end' are optional, if an unavailable value is specified, an empty list is returned\n",
    "\n",
    "ma_list = my_list   # this will NOT copy the contents of my_list in ma_list rather make both lists point to the same place in memory\n",
    "my_list[2] = \"changed element in list 1\"\n",
    "print(\"my_list -->\" ,my_list)\n",
    "print(\"ma_list -->\" ,ma_list)\n",
    "assert id(my_list) == id(ma_list)  # same ids\n"
   ]
  },
  {
   "cell_type": "code",
   "execution_count": 14,
   "metadata": {},
   "outputs": [
    {
     "name": "stdout",
     "output_type": "stream",
     "text": [
      "sorted list --> ['01 Irishman', '02 Killers of the flower moon', '03 Taxi Driver', '04 Raging Bull']\n",
      "reversed list --> ['04 Raging Bull', '03 Taxi Driver', '02 Killers of the flower moon', '01 Irishman']\n"
     ]
    }
   ],
   "source": [
    "\"\"\"\n",
    "A method is owned by the data it works for, while a function is owned by the whole code.\n",
    "A method chages the state of the data that it works for.\n",
    "\"\"\"\n",
    "\n",
    "## readymade methods\n",
    "\n",
    "my_list =  [\"03 Taxi Driver\", \"01 Irishman\", \"04 Raging Bull\", \"02 Killers of the flower moon\"]\n",
    "\n",
    "## list sorting \n",
    "my_list.sort()\n",
    "print(\"sorted list -->\", my_list)\n",
    "\n",
    "## list reversing \n",
    "my_list.reverse()\n",
    "print(\"reversed list -->\", my_list)"
   ]
  },
  {
   "cell_type": "code",
   "execution_count": 7,
   "metadata": {},
   "outputs": [
    {
     "name": "stdout",
     "output_type": "stream",
     "text": [
      "1 Mississippi\n",
      "2 Mississippi\n",
      "3 Mississippi\n",
      "4 Mississippi\n",
      "5 Mississippi\n",
      "Ready or not, here I come!\n"
     ]
    }
   ],
   "source": [
    "# [sample program] Your task is very simple here: write a program that uses a for loop to \"count mississippily\" to five. \n",
    "# Having counted to five, the program should print to the screen the final message \"Ready or not, here I come!\"\n",
    "\n",
    "import time\n",
    "\n",
    "for i in range(5):\n",
    "    print(i+1,\"Mississippi\")\n",
    "    time.sleep(1)   # sleep for one second\n",
    "print(\"Ready or not, here I come!\")"
   ]
  },
  {
   "cell_type": "markdown",
   "metadata": {},
   "source": [
    "#### _in and not in operators_"
   ]
  },
  {
   "cell_type": "code",
   "execution_count": 9,
   "metadata": {},
   "outputs": [
    {
     "name": "stdout",
     "output_type": "stream",
     "text": [
      "False\n",
      "True\n"
     ]
    }
   ],
   "source": [
    "## in and not in operators\n",
    "\n",
    "fruits = ['apple', 'banana', 'peach', 'orange', 'watermelon', 'dragon fruit']\n",
    "\n",
    "print('brocolli' in fruits)\n",
    "\n",
    "print('strawberry' not in fruits)"
   ]
  },
  {
   "cell_type": "markdown",
   "metadata": {},
   "source": [
    "#### _list comprehension_"
   ]
  },
  {
   "cell_type": "code",
   "execution_count": 11,
   "metadata": {},
   "outputs": [
    {
     "name": "stdout",
     "output_type": "stream",
     "text": [
      "[1, 8, 27, 64, 125]\n",
      "[1, 8, 27, 64, 125]\n",
      "[1, 27, 125]\n"
     ]
    }
   ],
   "source": [
    "cubes = []\n",
    "\n",
    "for i in range(5):\n",
    "    cubes.append((i+1) ** 3)\n",
    "\n",
    "print(cubes)\n",
    "\n",
    "# the above piece of code can be comprehended as below\n",
    "\n",
    "cubes = [(i+1)**3 for i in range(5)]\n",
    "\n",
    "print(cubes)\n",
    "\n",
    "# list comprehension can also have conditionals\n",
    "\n",
    "cubes = [(i+1)**3 for i in range(5) if (i+1)%2 == 1]\n",
    "\n",
    "print(cubes)"
   ]
  },
  {
   "cell_type": "markdown",
   "metadata": {},
   "source": [
    "#### _list dimensionality_"
   ]
  },
  {
   "cell_type": "code",
   "execution_count": 13,
   "metadata": {},
   "outputs": [
    {
     "name": "stdout",
     "output_type": "stream",
     "text": [
      "[[0, 0, 0], [0, 0, 0], [0, 0, 0]]\n",
      "[[[':(', 'x', 'x'], [':)', 'x', 'x'], [':(', 'x', 'x']], [[':)', 'x', 'x'], [':(', 'x', 'x'], [':)', 'x', 'x']], [[':(', 'x', 'x'], [':)', 'x', 'x'], [':)', 'x', 'x']]]\n",
      "[[[':(', 'x', 'x'], [':)', 'x', 'x'], [':(', 'x', 'x']], [[':)', 'x', 'x'], [':(', 'x', 'x'], [':)', 'x', 'x']], [[':(', 'x', 'x'], [':)', 'x', 'x'], [':)', 'x', 'x']]]\n",
      ":(\n",
      ":)\n"
     ]
    }
   ],
   "source": [
    "tic_tac_toe = [[0 for tic in range(3)] for tac in range(3)]\n",
    "print(tic_tac_toe)\n",
    "\n",
    "# Cube - a three-dimensional array (3x3x3)\n",
    " \n",
    "cube = [[[':(', 'x', 'x'],\n",
    "         [':)', 'x', 'x'],\n",
    "         [':(', 'x', 'x']],\n",
    " \n",
    "        [[':)', 'x', 'x'],\n",
    "         [':(', 'x', 'x'],\n",
    "         [':)', 'x', 'x']],\n",
    " \n",
    "        [[':(', 'x', 'x'],\n",
    "         [':)', 'x', 'x'],\n",
    "         [':)', 'x', 'x']]]\n",
    "\n",
    "print(cube)\n",
    "print(cube)\n",
    "print(cube[0][0][0])  # outputs: ':('\n",
    "print(cube[2][2][0])  # outputs: ':)'"
   ]
  },
  {
   "cell_type": "markdown",
   "metadata": {},
   "source": [
    "#### TUPLES"
   ]
  },
  {
   "cell_type": "markdown",
   "metadata": {},
   "source": [
    "__1. Sequence Type__\n",
    "_A sequence type is a type of data in Python which is able to store more than one value (or less than one, as a sequence may be empty), and these values can be sequentially (hence the name) browsed, element by element._\n",
    "\n",
    "__2. Mutability__\n",
    "_It is a property of any Python data that describes its readiness to be freely changed during program execution. There are two kinds of Python data: mutable and immutable._\n",
    "\n",
    "A tuple is an __immutable__ sequence type. It can behave like a list, but it can't be modified _in situ_ (in position)."
   ]
  },
  {
   "cell_type": "markdown",
   "metadata": {},
   "source": [
    "##### basic representation & operations"
   ]
  },
  {
   "cell_type": "code",
   "execution_count": 15,
   "metadata": {},
   "outputs": [
    {
     "name": "stdout",
     "output_type": "stream",
     "text": [
      "('t', 'u', 'p', 1, 3)\n",
      "('t', 'u', 'p', 1, 3)\n",
      "(1,)\n"
     ]
    }
   ],
   "source": [
    "# defining a tuple  - use parenthesis as opposed to brackets for lists\n",
    "my_tuple = ('t','u','p',1,3)\n",
    "tuple_wihout_braces = 't','u','p',1,3\n",
    "\n",
    "one_element_tuple = (1,) # the comma is necessary since it qualifies as a tuple\n",
    "\n",
    "print(my_tuple)\n",
    "print(tuple_wihout_braces)\n",
    "print(one_element_tuple)\n",
    "\n",
    "ma_tuple = my_tuple\n",
    "\n",
    "# my_tuple[0]=9  # this will not work as a tuple is immutable\n",
    "# my_tuple.append(1) # this will not work as a tuple is immutable\n",
    "\n",
    "# creating an empty tuple\n",
    "empty_tuple = ()\n"
   ]
  },
  {
   "cell_type": "markdown",
   "metadata": {},
   "source": [
    "##### iterating tuples"
   ]
  },
  {
   "cell_type": "code",
   "execution_count": 16,
   "metadata": {},
   "outputs": [
    {
     "name": "stdout",
     "output_type": "stream",
     "text": [
      "u\n",
      "p\n",
      "1\n",
      "3\n"
     ]
    }
   ],
   "source": [
    "my_tuple = ('t','u','p',1,3)\n",
    "\n",
    "for i in range(len(my_tuple)-1):\n",
    "    print(my_tuple[i+1])"
   ]
  },
  {
   "cell_type": "markdown",
   "metadata": {},
   "source": [
    "##### slicing tuples"
   ]
  },
  {
   "cell_type": "code",
   "execution_count": 17,
   "metadata": {},
   "outputs": [
    {
     "name": "stdout",
     "output_type": "stream",
     "text": [
      "('pineapple', 'orange')\n"
     ]
    }
   ],
   "source": [
    "slice_me = (\"apple\", \"banana\", \"pineapple\", \"orange\", \"pomegranate\")\n",
    "\n",
    "print(slice_me[2:4])"
   ]
  },
  {
   "cell_type": "markdown",
   "metadata": {},
   "source": [
    "##### in and not in operators"
   ]
  },
  {
   "cell_type": "code",
   "execution_count": 18,
   "metadata": {},
   "outputs": [
    {
     "name": "stdout",
     "output_type": "stream",
     "text": [
      "True\n"
     ]
    }
   ],
   "source": [
    "resolutions = ([1024,768], \"4k\", \"2.5k\", \"480p\")\n",
    "\n",
    "print(\"4k\" in resolutions)"
   ]
  },
  {
   "cell_type": "markdown",
   "metadata": {},
   "source": [
    "##### circulating elements in tuples\n",
    "One of the most useful tuple properties is their ability to appear on the left side of the assignment operator. "
   ]
  },
  {
   "cell_type": "code",
   "execution_count": 19,
   "metadata": {},
   "outputs": [
    {
     "name": "stdout",
     "output_type": "stream",
     "text": [
      "(2,) (3, 123) (1,)\n"
     ]
    }
   ],
   "source": [
    "var = 123\n",
    " \n",
    "t1 = (1, )\n",
    "t2 = (2, )\n",
    "t3 = (3, var)\n",
    " \n",
    "t1, t2, t3 = t2, t3, t1\n",
    " \n",
    "print(t1, t2, t3)"
   ]
  },
  {
   "cell_type": "markdown",
   "metadata": {},
   "source": [
    "#### DICTIONARIES\n",
    "\n",
    "A __mutable data structure__ that is not a sequence. The list of pairs is surrounded by curly braces, while the pairs themselves are separated by commas, and the keys and values by colons.\n",
    "\n",
    "`dictionary = {key:value}`"
   ]
  },
  {
   "cell_type": "code",
   "execution_count": 22,
   "metadata": {},
   "outputs": [
    {
     "name": "stdout",
     "output_type": "stream",
     "text": [
      "{'Germany': 'Berlin', 'Canada': 'Ottawa', 'England': 'London'}\n",
      "{'Germany': 'Berlin', 'Canada': 'Ottawa', 'England': 'London'}\n"
     ]
    }
   ],
   "source": [
    "# defining a dictionary with dict method & a list\n",
    "country_capitals = dict(\n",
    "  [\n",
    "    (\"Germany\", \"Berlin\"),\n",
    "    (\"Canada\", \"Ottawa\"), \n",
    "    (\"England\", \"London\")\n",
    "  ]\n",
    ")\n",
    "\n",
    "print(country_capitals)\n",
    "\n",
    "# defining a dictionary with dict method\n",
    "country_capitals = dict(\n",
    "    Germany= \"Berlin\",\n",
    "    Canada= \"Ottawa\", \n",
    "    England= \"London\"\n",
    ")\n",
    "\n",
    "print(country_capitals)\n"
   ]
  },
  {
   "cell_type": "markdown",
   "metadata": {},
   "source": [
    "##### iterating dictionaries"
   ]
  },
  {
   "cell_type": "code",
   "execution_count": 23,
   "metadata": {},
   "outputs": [
    {
     "name": "stdout",
     "output_type": "stream",
     "text": [
      "country --> Germany\n",
      "country --> Canada\n",
      "country --> England\n",
      "capital --> Berlin\n",
      "capital --> Ottawa\n",
      "capital --> London\n",
      "\n",
      "Berlin is the capital of Germany.\n",
      "Ottawa is the capital of Canada.\n",
      "London is the capital of England.\n",
      "\n",
      "Berlin is the capital of Germany.\n",
      "Ottawa is the capital of Canada.\n",
      "London is the capital of England.\n"
     ]
    }
   ],
   "source": [
    "country_capitals = {\n",
    "  \"Germany\": \"Berlin\", \n",
    "  \"Canada\": \"Ottawa\", \n",
    "  \"England\": \"London\"\n",
    "}\n",
    "\n",
    "# iterating through the dictionary keys\n",
    "for country in country_capitals.keys():\n",
    "  print(\"country\",\"-->\", country)\n",
    "  \n",
    "# iterating through the dictionary values\n",
    "for capital in country_capitals.values():\n",
    "  print(\"capital\",\"-->\", capital)\n",
    "\n",
    "\n",
    "print()\n",
    "# iterating through the key-value pair\n",
    "for (k,v) in country_capitals.items():\n",
    "  print(v,\"is the capital of\",k,end=\".\\n\")\n",
    "\n",
    "print()\n",
    "# iterating with a single variable\n",
    "for key in country_capitals:\n",
    "  value = country_capitals[key]\n",
    "  print(value,\"is the capital of\",key,end=\".\\n\")"
   ]
  },
  {
   "cell_type": "markdown",
   "metadata": {},
   "source": [
    "##### modifying dictionaries"
   ]
  },
  {
   "cell_type": "code",
   "execution_count": 25,
   "metadata": {},
   "outputs": [
    {
     "name": "stdout",
     "output_type": "stream",
     "text": [
      "{'cat': 'poonai', 'dog': 'chien', 'horse': 'cheval', 'swan': 'cygne', 'duck': 'canard'}\n",
      "{'cat': 'poonai', 'dog': 'chien', 'horse': 'cheval', 'swan': 'cygne'}\n",
      "copied dictionary {'cat': 'poonai', 'dog': 'chien', 'horse': 'cheval', 'swan': 'cygne'}\n",
      "{}\n"
     ]
    }
   ],
   "source": [
    "dictionary = {\"cat\": \"chat\", \"dog\": \"chien\", \"horse\": \"cheval\"}\n",
    "\n",
    "# updating the value of the dictionary\n",
    "dictionary[\"cat\"] = \"poonai\"\n",
    "\n",
    "# adding a new value to the dictionary\n",
    "dictionary['swan'] = 'cygne'\n",
    "# or\n",
    "dictionary.update({\"duck\": \"canard\"})\n",
    "\n",
    "print(dictionary)\n",
    "\n",
    "# removing the key-value pair from the dictionary\n",
    "del dictionary[\"duck\"]\n",
    "print(dictionary)\n",
    "\n",
    "# copying a dictionary to another dictionary\n",
    "copied_dictionary = dictionary.copy()\n",
    "\n",
    "print(\"copied dictionary\",copied_dictionary)\n",
    "\n",
    "# removing the last key-value pair from the dictionary\n",
    "dictionary.popitem()\n",
    "\n",
    "# removing all the entries from the dictionary\n",
    "dictionary.clear()\n",
    "\n",
    "print(dictionary)"
   ]
  },
  {
   "cell_type": "markdown",
   "metadata": {},
   "source": [
    "##### in and not in operators"
   ]
  },
  {
   "cell_type": "code",
   "execution_count": 26,
   "metadata": {},
   "outputs": [
    {
     "name": "stdout",
     "output_type": "stream",
     "text": [
      "False\n"
     ]
    }
   ],
   "source": [
    "if \"swan\" in dictionary.keys():\n",
    "    print(True)\n",
    "else:\n",
    "    print(False)"
   ]
  },
  {
   "cell_type": "markdown",
   "metadata": {},
   "source": [
    "### FUNCTIONS\n",
    "\n",
    "A function is a block of code that performs a specific task when the function is called (invoked).You can use functions to make your code reusable, better organized, and more readable.\n",
    "\n",
    "Types of functions:\n",
    "1. Built-in functions\n",
    "2. Functions from pre-installed modules\n",
    "3. User-defined functions\n",
    "4. Lambda functions\n",
    "\n",
    "```\n",
    "def your_function(optional parameters):\n",
    "    # the body of the function\n",
    "```"
   ]
  },
  {
   "cell_type": "markdown",
   "metadata": {},
   "source": [
    "##### defining and invoking functions\n"
   ]
  },
  {
   "cell_type": "code",
   "execution_count": 28,
   "metadata": {},
   "outputs": [
    {
     "name": "stdout",
     "output_type": "stream",
     "text": [
      "Hello! function\n"
     ]
    }
   ],
   "source": [
    "# defining the function\n",
    "def my_function():\n",
    "    print(\"Hello! function\")\n",
    "\n",
    "# invoking the function\n",
    "my_function()\n",
    "\n",
    "# since Python interprets the code, a function CANNOT be invoked before it's definition."
   ]
  },
  {
   "cell_type": "markdown",
   "metadata": {},
   "source": [
    "##### parameterized functions"
   ]
  },
  {
   "cell_type": "code",
   "execution_count": 29,
   "metadata": {},
   "outputs": [
    {
     "name": "stdout",
     "output_type": "stream",
     "text": [
      "odd\n"
     ]
    }
   ],
   "source": [
    "# defining the function with a parameter and a default value\n",
    "# the default value makes invoking the function without any parameter\n",
    "# if the default value is not specified, the function invocation needs the parameter value\n",
    "def odd_or_even(number=0):\n",
    "    if number%2==0: \n",
    "        return \"even\"  # returns the value of the function\n",
    "    else: \n",
    "        return \"odd\"   # returns the value of the function\n",
    "\n",
    "print(odd_or_even(45))"
   ]
  },
  {
   "cell_type": "markdown",
   "metadata": {},
   "source": [
    "##### positional parameters & keyword arguments"
   ]
  },
  {
   "cell_type": "code",
   "execution_count": 30,
   "metadata": {},
   "outputs": [
    {
     "name": "stdout",
     "output_type": "stream",
     "text": [
      "Hello, my name is Luke Skywalker\n",
      "Hello, my name is Luke Smith\n",
      "Hello, my name is Itachi Uchiha\n",
      "Hello, my name is Minato Namikaze\n",
      "20\n"
     ]
    }
   ],
   "source": [
    "# positional parameter passing\n",
    "def introduction(first_name, last_name = \"Smith\"):\n",
    "    print(\"Hello, my name is\", first_name, last_name)\n",
    "\n",
    "introduction(\"Luke\", \"Skywalker\")\n",
    "\n",
    "# this will work since last_name has a default value\n",
    "introduction(\"Luke\")\n",
    "\n",
    "# this will fail since the function expects first_name to be passed\n",
    "# introduction()\n",
    "\n",
    "# keyword argument passing - arguments get qualified with their names\n",
    "introduction(last_name= \"Uchiha\", first_name=\"Itachi\")\n",
    "\n",
    "# mixing positional and keyword arguments\n",
    "introduction(\"Minato\",last_name=\"Namikaze\")\n",
    "\n",
    "def add_numbers(a,b,c):\n",
    "    print(a+b+c)\n",
    "\n",
    "# this will not work since keyword arguments should be passed after positional arguments\n",
    "# add_numbers(c=9,a=4,7)\n",
    "add_numbers(7,c=4,b=9) # while add_numbers(7,a=4,c=9) will not work"
   ]
  },
  {
   "cell_type": "code",
   "execution_count": 31,
   "metadata": {},
   "outputs": [
    {
     "name": "stdout",
     "output_type": "stream",
     "text": [
      "1900 --> OK\n",
      "2000 --> OK\n",
      "2016 --> OK\n",
      "1987 --> OK\n"
     ]
    }
   ],
   "source": [
    "# [sample program] program to find if a given year is a leap year\n",
    "def is_year_leap(year):\n",
    "    if ((year % 400 == 0) or (year % 100 != 0) and (year % 4 == 0)):\n",
    "        return True\n",
    "    else:\n",
    "        return False\n",
    "\n",
    "test_data = [1900, 2000, 2016, 1987]\n",
    "test_results = [False, True, True, False]\n",
    "\n",
    "for i in range(len(test_data)):\n",
    "    yr = test_data[i]\n",
    "    print(yr,\"--> \",end=\"\")\n",
    "    result = is_year_leap(yr)\n",
    "    if result == test_results[i]:\n",
    "        print(\"OK\")\n",
    "    else:\n",
    "        print(\"Failed\")\n"
   ]
  },
  {
   "cell_type": "markdown",
   "metadata": {},
   "source": [
    "##### scoping"
   ]
  },
  {
   "cell_type": "code",
   "execution_count": 32,
   "metadata": {},
   "outputs": [
    {
     "name": "stdout",
     "output_type": "stream",
     "text": [
      "Inside the function before redefining 1\n",
      "Inside the function after redefining 100\n",
      "Outside the function  1\n",
      "\n",
      "Inside the function after redefining 100\n",
      "Outside the function  100\n"
     ]
    }
   ],
   "source": [
    "def fn_sample():\n",
    "    print(\"Inside the function before redefining\", var)\n",
    "    var_in_fn = 100 # scoped to the function\n",
    "    print(\"Inside the function after redefining\", var_in_fn)\n",
    "\n",
    "var = 1\n",
    "\n",
    "fn_sample()\n",
    "print(\"Outside the function \", var)\n",
    "# print(\"Outside the function \", var_in_fn)  # this will not work as the variable is scoped to the function\n",
    "\n",
    "print()\n",
    "\n",
    "# using the global variable to extend the scope of a variable\n",
    "def fn_global_scope():\n",
    "    global global_var  # scoped to the function\n",
    "    global_var = 100\n",
    "    print(\"Inside the function after redefining\", global_var)\n",
    "\n",
    "fn_global_scope()\n",
    "print(\"Outside the function \", global_var)\n"
   ]
  },
  {
   "cell_type": "code",
   "execution_count": 33,
   "metadata": {},
   "outputs": [
    {
     "name": "stdout",
     "output_type": "stream",
     "text": [
      "Print #1: [2, 3]\n",
      "Print #2: [2, 3]\n",
      "Print #3: [3]\n",
      "Print #4: [3]\n",
      "Print #5: [3]\n"
     ]
    }
   ],
   "source": [
    "def my_function(my_list_1):\n",
    "    print(\"Print #1:\", my_list_1)\n",
    "    print(\"Print #2:\", my_list_2)\n",
    "    # my_list_1 = [0, 1] # this is changing the value of the list\n",
    "    del my_list_1[0] # this will modify the list and gets reflected outside the function\n",
    "    print(\"Print #3:\", my_list_1)\n",
    "    print(\"Print #4:\", my_list_2)\n",
    "\n",
    "my_list_2 = [2, 3]\n",
    "my_function(my_list_2)\n",
    "print(\"Print #5:\", my_list_2)\n"
   ]
  },
  {
   "cell_type": "markdown",
   "metadata": {},
   "source": [
    "### EXCEPTIONS HANDLING\n",
    "```\n",
    "try:\n",
    "\t# It's a place where\n",
    "\t# you can do something \n",
    "    # without asking for permission.\n",
    "except:\n",
    "\t# It's a spot dedicated to \n",
    "    # solemnly begging for forgiveness.\n",
    "```"
   ]
  },
  {
   "cell_type": "code",
   "execution_count": 34,
   "metadata": {},
   "outputs": [
    {
     "name": "stdout",
     "output_type": "stream",
     "text": [
      "Enter a number: 54\n",
      "The reciprocal of the 54  is 0.018518518518518517\n"
     ]
    }
   ],
   "source": [
    "try:\n",
    "    value = int(input(\"Enter a number: \"))\n",
    "    print(\"The reciprocal of the\",value,\" is\", 1/value)\n",
    "except ValueError:\n",
    "    print(\"Please provide a proper value.\")\n",
    "except ZeroDivisionError:\n",
    "    print(\"Division by zero is not allowed.\")\n",
    "except:\n",
    "    # all other excpetions go here\n",
    "    print(\"Something unexpected happened.\")"
   ]
  },
  {
   "cell_type": "code",
   "execution_count": 35,
   "metadata": {},
   "outputs": [
    {
     "ename": "SyntaxError",
     "evalue": "invalid syntax (<ipython-input-35-94ba2e3a42ec>, line 3)",
     "output_type": "error",
     "traceback": [
      "\u001b[1;36m  File \u001b[1;32m\"<ipython-input-35-94ba2e3a42ec>\"\u001b[1;36m, line \u001b[1;32m3\u001b[0m\n\u001b[1;33m    Python 3 defines 63 built-in exceptions, and all of them form a tree-shaped hierarchy.\u001b[0m\n\u001b[1;37m           ^\u001b[0m\n\u001b[1;31mSyntaxError\u001b[0m\u001b[1;31m:\u001b[0m invalid syntax\n"
     ]
    }
   ],
   "source": [
    "##### exception types\n",
    "\n",
    "Python 3 defines 63 built-in exceptions, and all of them form a tree-shaped hierarchy.\n",
    "\n",
    "```\n",
    "    BaseException\n",
    "        |--> SystemExit \n",
    "        |--> KeyboardInterrupt\n",
    "        |--> Exception\n",
    "              |--> ValueError\n",
    "              |--> LookupError\n",
    "              .       |--> KeyError\n",
    "              .       |-->  IndexError\n",
    "              |-ArithmeticError\n",
    "                  |--> ZeroDivisionError\n",
    "```\n",
    "\n",
    "__syntax errors__ (parsing errors), which occur when the parser comes across a statement that is incorrect.\n",
    "\n",
    "Ex: print(\"Hello, World!)\n",
    "\n",
    "__exceptions__, which occur even when a statement/expression is syntactically correct; these are the errors that are detected during execution when your code results in an error which is not uncoditionally fatal. \n",
    "\n",
    "__ZeroDivisionError__\n",
    "This appears when you try to force Python to perform any operation which provokes division in which the divider is zero, or is indistinguishable from zero.\n",
    "\n",
    "__ValueError__\n",
    "Expect this exception when you're dealing with values which may be inappropriately used in some context. \n",
    "\n",
    "__TypeError__\n",
    "This exception shows up when you try to apply a data whose type cannot be accepted in the current context.\n",
    "\n",
    "__AttributeError__\n",
    "This exception arrives – among other occasions – when you try to activate a method which doesn't exist in an item you're dealing with."
   ]
  },
  {
   "cell_type": "markdown",
   "metadata": {},
   "source": [
    "##### raising exceptions\n",
    "\n",
    "The `raise` instruction enables you to:\n",
    "\n",
    "- simulate raising actual exceptions (e.g., to test your handling strategy)\n",
    "- partially handle an exception and make another part of the code responsible for completing the handling (separation of concerns)."
   ]
  },
  {
   "cell_type": "code",
   "execution_count": 37,
   "metadata": {},
   "outputs": [
    {
     "name": "stdout",
     "output_type": "stream",
     "text": [
      "Arithmetic problem!\n",
      "THE END.\n"
     ]
    }
   ],
   "source": [
    "try:\n",
    "    y = 1 / 0\n",
    "except ArithmeticError: # this preceeds Zero DivisionError as this is in the first except block\n",
    "    print(\"Arithmetic problem!\")\n",
    "except ZeroDivisionError: # this can take precedence if it is defined above all other exceptions\n",
    "    print(\"Zero Division!\")\n",
    " \n",
    "print(\"THE END.\")"
   ]
  },
  {
   "cell_type": "code",
   "execution_count": 38,
   "metadata": {},
   "outputs": [
    {
     "name": "stdout",
     "output_type": "stream",
     "text": [
      "What happened? An exception was raised!\n",
      "THE END.\n"
     ]
    }
   ],
   "source": [
    "'''\n",
    "defining exceptions with function : the exception can be defined within the function as well and it can propogate outside the function\n",
    "the exception raised can cross function and module boundaries, \n",
    "and travel through the invocation chain looking for a matching except clause able to handle it.\n",
    "'''\n",
    "\n",
    "def bad_fun(n):\n",
    "    return 1 / n\n",
    " \n",
    "try:\n",
    "    bad_fun(0)\n",
    "except ArithmeticError:\n",
    "    print(\"What happened? An exception was raised!\")\n",
    " \n",
    "print(\"THE END.\")"
   ]
  },
  {
   "cell_type": "code",
   "execution_count": 39,
   "metadata": {},
   "outputs": [
    {
     "name": "stdout",
     "output_type": "stream",
     "text": [
      "What happened? An error?\n",
      "THE END.\n"
     ]
    }
   ],
   "source": [
    "# raising the exception using the raise keyword\n",
    "def bad_fun(n):         # ----- trace 2\n",
    "    raise ZeroDivisionError # ----- trace 3\n",
    "\n",
    "\n",
    "try:\n",
    "    bad_fun(0)          # ----- trace 1\n",
    "except ArithmeticError: # ----- trace 4\n",
    "    print(\"What happened? An error?\") # ----- trace 5\n",
    "\n",
    "print(\"THE END.\")"
   ]
  },
  {
   "cell_type": "code",
   "execution_count": 40,
   "metadata": {},
   "outputs": [
    {
     "name": "stdout",
     "output_type": "stream",
     "text": [
      "I did it again!\n",
      "I see!\n",
      "THE END.\n"
     ]
    }
   ],
   "source": [
    "# raising the exception using only the `raise` keyword\n",
    "# this variant of raising exception is only allowed within the except block\n",
    "def bad_fun(n):\n",
    "    try:\n",
    "        return n / 0\n",
    "    except:\n",
    "        print(\"I did it again!\")\n",
    "        raise                       # ONLY ALLOWED HERE\n",
    "\n",
    "\n",
    "try:\n",
    "    bad_fun(0)\n",
    "except ArithmeticError:\n",
    "    print(\"I see!\")\n",
    "\n",
    "print(\"THE END.\")"
   ]
  },
  {
   "cell_type": "markdown",
   "metadata": {},
   "source": [
    "#### assertions\n",
    "\n",
    "keywords: `assert`\n",
    "\n",
    "_How does it work?_\n",
    "\n",
    "- It evaluates the expression;\n",
    "- if the expression evaluates to True, or a non-zero numerical value, or a non-empty string, or any other value different than None, it won't do anything else;\n",
    "- otherwise, it automatically and immediately raises an exception named AssertionError (in this case, we say that the assertion has failed)\n",
    "\n",
    "_How it can be used?_\n",
    "\n",
    "- you may want to put it into your code where you want to be absolutely safe from evidently wrong data, and where you aren't absolutely sure that the data has been carefully examined before (e.g., inside a function used by someone else)\n",
    "- raising an AssertionError exception secures your code from producing invalid results, and clearly shows the nature of the failure;\n",
    "- assertions don't supersede exceptions or validate the data – they are their supplements.\n",
    "- If exceptions and data validation are like careful driving, assertion can play the role of an airbag.\n",
    "\n"
   ]
  },
  {
   "cell_type": "code",
   "execution_count": 41,
   "metadata": {},
   "outputs": [
    {
     "name": "stdout",
     "output_type": "stream",
     "text": [
      "Enter a number: 0\n",
      "0.0\n"
     ]
    }
   ],
   "source": [
    "import math\n",
    "\n",
    "x = float(input(\"Enter a number: \"))\n",
    "assert x >= 0.0     # this throws AssertionError when the user inputs a number less than zero\n",
    "\n",
    "x = math.sqrt(x)\n",
    "\n",
    "print(x)\n",
    "    "
   ]
  },
  {
   "cell_type": "markdown",
   "metadata": {},
   "source": [
    "### INTRODUCTION TO MODULES"
   ]
  },
  {
   "cell_type": "code",
   "execution_count": 4,
   "metadata": {},
   "outputs": [
    {
     "name": "stdout",
     "output_type": "stream",
     "text": [
      "1.0\n"
     ]
    }
   ],
   "source": [
    "#importing the module\n",
    "#you put:\n",
    "#the name of the module (e.g., math)\n",
    "#a dot (i.e., .)\n",
    "#the name of the entity (e.g., pi)\n",
    "\n",
    "\n",
    "import math\n",
    "print(math.sin(math.pi/2))\n",
    "\n",
    "#In the second method, the import's syntax precisely points out which module's entity (or entities) are acceptable in the code:\n",
    "\n",
    "from math import pi\n",
    "\n",
    "#The instruction consists of the following elements:\n",
    "#the from keyword;\n",
    "#the name of the module to be (selectively) imported;\n",
    "#the import keyword;\n",
    "#the name or list of names of the entity/entities which are being imported into the namespace.\n"
   ]
  },
  {
   "cell_type": "code",
   "execution_count": null,
   "metadata": {},
   "outputs": [],
   "source": [
    "# where ever this import statement is executed, the imported symbols supersede the previous definitions within the namespace\n",
    "from math import pi,sin \n",
    "\n",
    "print(sin(pi/2))\n",
    "\n",
    "# redefining the symbol imports within this namespace different from the `math` namespace\n",
    "pi = 3.14\n",
    "\n",
    "def sin(x):\n",
    "    if 2 * x == pi:\n",
    "        return 0.99999999\n",
    "    else:\n",
    "        return None\n",
    "\n",
    "# the local variable definition within this namespace will be taken into account \n",
    "print(sin(pi / 2))"
   ]
  },
  {
   "cell_type": "markdown",
   "metadata": {},
   "source": [
    "When the name of a module or it's entitites conflicts with the name of the local namespace variables, then the imports can be aliased\n",
    "or\n",
    "if the name of the module or entity is legthier, then aliasing can be done."
   ]
  },
  {
   "cell_type": "code",
   "execution_count": null,
   "metadata": {},
   "outputs": [],
   "source": [
    "import math as m\n",
    "\n",
    "print(m.sin(m.pi/2))     # this will work \n",
    "\n",
    "from math import pi as PI, sin as sine  \n",
    "  \n",
    "print(sine(PI/2))"
   ]
  },
  {
   "cell_type": "code",
   "execution_count": null,
   "metadata": {},
   "outputs": [],
   "source": []
  },
  {
   "cell_type": "markdown",
   "metadata": {},
   "source": [
    "### Working with standard modules"
   ]
  },
  {
   "cell_type": "code",
   "execution_count": null,
   "metadata": {},
   "outputs": [],
   "source": [
    "# print all the entities in the math module\n",
    "import math\n",
    "      \n",
    "for name in dir(math):\n",
    "  print(name, end=\"∖t\")"
   ]
  },
  {
   "cell_type": "markdown",
   "metadata": {},
   "source": [
    "random module\n",
    "provides various functions related to working with pseudorandom numbers\n",
    "\n",
    "entities: random, seed, randrange, randint , choice, sample\n",
    "\n",
    "A random number generator takes a value called a seed, treats it as an input value, calculates a \"random\" number based on it (the method depends on a chosen algorithm) and produces a new seed value.\n",
    "\n"
   ]
  },
  {
   "cell_type": "code",
   "execution_count": null,
   "metadata": {},
   "outputs": [],
   "source": [
    "from random import random, seed\n",
    "\n",
    "for i in range(5):\n",
    "    print(random())"
   ]
  },
  {
   "cell_type": "markdown",
   "metadata": {},
   "source": [
    "### The seed function"
   ]
  },
  {
   "cell_type": "code",
   "execution_count": null,
   "metadata": {},
   "outputs": [],
   "source": [
    "# seed function -  able to directly set the generator's seed\n",
    "seed()   # sets the generator's seed with the current time\n",
    "seed(0)  # sets the generator's seed with the provided integer value\n",
    "\n",
    "for i in range(3):\n",
    "    print(random())"
   ]
  },
  {
   "cell_type": "code",
   "execution_count": null,
   "metadata": {},
   "outputs": [],
   "source": [
    "# randrange & randint\n",
    "# randrange - \n",
    "\n",
    "from random import randrange, randint\n",
    "\n",
    "print(randrange(1), end=' ')            # only ending value is given\n",
    "print(randrange(0, 1), end=' ')         # both beginning and ending values are given\n",
    "print(randrange(0, 5, 5), end=' ')      # beginning, end and step values are given\n",
    "print(randint(0, 34))                   # random ineger ranging from beginning to end"
   ]
  },
  {
   "cell_type": "markdown",
   "metadata": {},
   "source": [
    "choice and sample functions\n",
    "\n",
    "choice : choice(sequence) - chooses a random element from a given input sequence\n",
    "\n",
    "sample : sample(sequence, elements_to_choose) - builds a list of random elements from the given input sequence and the elements to choose"
   ]
  },
  {
   "cell_type": "code",
   "execution_count": null,
   "metadata": {},
   "outputs": [],
   "source": [
    "from random import choice, sample\n",
    "\n",
    "my_list = [1, 2, 3, 4, 5, 6, 7, 8, 9, 10]\n",
    "\n",
    "print(choice(my_list))\n",
    "print(sample(my_list, 5))\n",
    "print(sample(my_list, 10))"
   ]
  },
  {
   "cell_type": "markdown",
   "metadata": {},
   "source": [
    "platform module\n",
    "The platform module lets you access the underlying platform's data, i.e., hardware, operating system, and interpreter version information.\n",
    "\n",
    "entities: platform, machine, processor, system, version"
   ]
  },
  {
   "cell_type": "code",
   "execution_count": null,
   "metadata": {},
   "outputs": [],
   "source": [
    "# platform(aliased = False, terse = False)\n",
    "# aliased - it may cause the function to present the alternative underlying layer names instead of the common ones\n",
    "# terse   - it may convince the function to present a briefer form of the result\n",
    "\n",
    "from platform import platform, machine, processor, system, version\n",
    "\n",
    "print(platform())\n",
    "print(platform(1))\n",
    "print(platform(0,1))\n",
    "\n",
    "print(machine())        # generic name of the processor which runs the OS together with the Python code\n",
    "\n",
    "print(processor())      # provides the real processor name\n",
    "\n",
    "print(system())         # generic OS name    \n",
    "\n",
    "print(version())        # OS version"
   ]
  },
  {
   "cell_type": "markdown",
   "metadata": {},
   "source": [
    "* python_implementation & python_version_tuple functions"
   ]
  },
  {
   "cell_type": "code",
   "execution_count": null,
   "metadata": {},
   "outputs": [],
   "source": [
    "# to know about the Python version\n",
    "\n",
    "from platform import python_implementation, python_version_tuple\n",
    "\n",
    "major,minor,patch = python_version_tuple()  # returns the major, minor and patch version numbers in the form of a tuple\n",
    "\n",
    "print(python_implementation(), major,\".\",minor,\".\",patch)  # returns a string denoting the Python implementation"
   ]
  },
  {
   "cell_type": "markdown",
   "metadata": {},
   "source": [
    "sys module\n",
    "entities: path\n",
    "path : a special variable (actually a list) storing all locations (folders/directories) that are searched in order to find a module which has been requested by the import instruction."
   ]
  },
  {
   "cell_type": "code",
   "execution_count": null,
   "metadata": {},
   "outputs": [],
   "source": [
    "from sys import path\n",
    "\n",
    "for p in path:\n",
    "    print(p)"
   ]
  },
  {
   "cell_type": "markdown",
   "metadata": {},
   "source": [
    "PIP\n",
    "- pip is a recursive acronym that stands for 'pip installs packages'\n",
    "\n",
    "- it helps to download packages from the PyPI (Python Package Index) aka The Cheese Shop which is a centralized repository of all available software packages\n",
    "\n",
    "- to check the version : pip --version\n",
    "\n",
    "- pip help: pip help\n",
    "\n",
    "- list all installed packages: pip list\n",
    "\n",
    "- show installed package details: pip show package_name\n",
    "\n",
    "- search packages: pip search anystring\n",
    "\n",
    "- installing a package for the logged in user : pip install --user  package_name\n",
    "\n",
    "- installing a package as admin : pip install package_name , remove the --user flag\n",
    "\n",
    "- updating a package : pip install -U package_name\n",
    "\n",
    "- install a specific package version : pip install package_name==package_version\n",
    "\n",
    "- uninstall a package: pip uninstall package_name"
   ]
  },
  {
   "cell_type": "markdown",
   "metadata": {},
   "source": [
    "#### STRINGS & RELATED METHODS"
   ]
  },
  {
   "cell_type": "markdown",
   "metadata": {},
   "source": [
    "- strings are immutable sequences"
   ]
  },
  {
   "cell_type": "code",
   "execution_count": 3,
   "metadata": {},
   "outputs": [
    {
     "name": "stdout",
     "output_type": "stream",
     "text": [
      "16\n",
      "0\n",
      "3\n"
     ]
    }
   ],
   "source": [
    "word = 'some random word'\n",
    "print(len(word))\n",
    "\n",
    "word = ''\n",
    "print(len(word))\n",
    "\n",
    "word = \"I'm\"\n",
    "print(len(word))"
   ]
  },
  {
   "cell_type": "markdown",
   "metadata": {},
   "source": [
    "- multiline strings\n",
    "\n",
    "    * Line Feed and Carriage Return are also counted in the length\n",
    "    * Can have both single and double quotes"
   ]
  },
  {
   "cell_type": "code",
   "execution_count": null,
   "metadata": {},
   "outputs": [],
   "source": [
    "multiline = '''Line #1\n",
    "Line #2'''\n",
    "\n",
    "print(len(multiline))\n",
    "\n",
    "multiline = \"\"\"My name is Carnival.\n",
    "It's a happy day!\n",
    "\"\"\"\n",
    "\n",
    "print(len(multiline))"
   ]
  },
  {
   "cell_type": "markdown",
   "metadata": {},
   "source": [
    "- concatenation & replication\n"
   ]
  },
  {
   "cell_type": "code",
   "execution_count": null,
   "metadata": {},
   "outputs": [],
   "source": [
    "str_1 = \"a\"\n",
    "str_2 = \"b\"\n",
    "\n",
    "print(str_1 + str_2)  # concatenation\n",
    "\n",
    "print(str_1 * 7) # replication"
   ]
  },
  {
   "cell_type": "markdown",
   "metadata": {},
   "source": [
    "- string functions\n"
   ]
  },
  {
   "cell_type": "code",
   "execution_count": null,
   "metadata": {},
   "outputs": [],
   "source": [
    "# ordinal function ord() - know a specific character's ASCII/UNICODE code point value\n",
    "\n",
    "char_1 = 'a'\n",
    "char_2 = ' '  # space\n",
    "\n",
    "print(ord(char_1))\n",
    "print(ord(char_2))\n",
    "\n",
    "# character function chr()- accepts a code point value and returns ACSII character\n",
    "\n",
    "print(chr(97))\n",
    "print(chr(945))"
   ]
  },
  {
   "cell_type": "markdown",
   "metadata": {},
   "source": [
    "indexing, iterating & slicing strings"
   ]
  },
  {
   "cell_type": "code",
   "execution_count": null,
   "metadata": {},
   "outputs": [],
   "source": [
    "indexed_string = \"string indexing\"\n",
    "\n",
    "for i in range(len(indexed_string)):\n",
    "    print(indexed_string[i], end=\"\")  # string gets indexed\n",
    "\n",
    "print()\n",
    "for i in \"iterable_string\": # iterate over the string\n",
    "    print(i, end=\"\")\n",
    "\n",
    "print()\n",
    "# slicing through a string\n",
    "print(indexed_string[-1:])"
   ]
  },
  {
   "cell_type": "markdown",
   "metadata": {},
   "source": [
    "in and not in operators"
   ]
  },
  {
   "cell_type": "code",
   "execution_count": null,
   "metadata": {},
   "outputs": [],
   "source": [
    "allow_list = \"!@#$%^&*()-_=+\"\n",
    "\n",
    "print(\"%\" in allow_list)\n",
    "\n",
    "print(\"\\\"\" not in allow_list)\n"
   ]
  },
  {
   "cell_type": "code",
   "execution_count": null,
   "metadata": {},
   "outputs": [],
   "source": [
    "multiline_string = '''This is a sample multiline string\n",
    "that has two lines of characters.'''\n",
    "\n",
    "print(len(multiline_string))"
   ]
  },
  {
   "cell_type": "markdown",
   "metadata": {},
   "source": [
    "- string methods\n",
    "the original string from which the method is invoked is not changed in any way – a string's immutability must be obeyed without reservation; the modified string (in this case, capitalized) is returned as a result – if you don't use it in any way (assign it to a variable, or pass it to a function/method) it will disappear without a trace.\n",
    "\n",
    "- capitalize() – changes all string letters to capitals;\n",
    "\n",
    "- center() – centers the string inside the field of a known length;\n",
    "\n",
    "- count() – counts the occurrences of a given character;\n",
    "\n",
    "- join() – joins all items of a tuple/list into one string;\n",
    "\n",
    "- lower() – converts all the string's letters into lower-case letters;\n",
    "\n",
    "- lstrip() – removes the white characters from the beginning of the string;\n",
    "\n",
    "- replace() – replaces a given substring with another;\n",
    "\n",
    "- rfind() – finds a substring starting from the end of the string;\n",
    "\n",
    "- rstrip() – removes the trailing white spaces from the end of the string;\n",
    "\n",
    "- split() – splits the string into a substring using a given delimiter;\n",
    "\n",
    "- strip() – removes the leading and trailing white spaces;\n",
    "\n",
    "- swapcase() – swaps the letters' cases (lower to upper and vice versa)\n",
    "\n",
    "- title() – makes the first letter in each word upper-case;\n",
    "\n",
    "- upper() – converts all the string's letter into upper-case letters.\n",
    "\n",
    "- endswith() – does the string end with a given substring?\n",
    "\n",
    "- isalnum() – does the string consist only of letters and digits?\n",
    "\n",
    "- isalpha() – does the string consist only of letters?\n",
    "\n",
    "- islower() – does the string consists only of lower-case letters?\n",
    "\n",
    "- isspace() – does the string consists only of white spaces?\n",
    "\n",
    "- isupper() – does the string consists only of upper-case letters?\n",
    "\n",
    "- startswith() – does the string begin with a given substring?"
   ]
  },
  {
   "cell_type": "code",
   "execution_count": null,
   "metadata": {},
   "outputs": [],
   "source": [
    "\"\"\"\n",
    "\n",
    "capitalize()\n",
    "similiar to initcap() as it capitalizes the first letter\n",
    "\n",
    "\"\"\"\n",
    "\n",
    "print(\"cApItAlIzRr\".capitalize())\n",
    "print(\"αβγδ\".capitalize())\n",
    "\n",
    "\"\"\"\n",
    "\n",
    "center()\n",
    "\n",
    "- The one-parameter variant of the center() method makes a copy of the original string, trying to center it inside a field of a specified width.\n",
    "- The two-parameter variant of center() makes use of the character from the second argument, instead of a space.\n",
    "\n",
    "\"\"\"\n",
    "# vary the value inside the method to increase the spacing width\n",
    "print('{' + 'alpha'.center(10) +  '}')\n",
    "\n",
    "print('{' + 'beta'.center(1) +  '}')\n",
    "\n",
    "print('{' + 'alpha'.center(20,'*') +  '}')"
   ]
  },
  {
   "cell_type": "code",
   "execution_count": null,
   "metadata": {},
   "outputs": [],
   "source": [
    "\"\"\"\n",
    "\n",
    "isalnum() \n",
    "\n",
    "checks if the string contains only digits or alphabetical characters (letters),\n",
    "and returns True or False according to the result.\n",
    "\n",
    "\"\"\"\n",
    "\n",
    "print(\"M0nty Pyth0n\".isalnum())\n",
    "\n",
    "print(\"MontyPython\".isalnum())\n",
    "\n",
    "\n",
    "\"\"\"\n",
    "\n",
    "isalpha() \n",
    "\n",
    "it's interested in letters only\n",
    "\n",
    "\"\"\"\n",
    "print(\"M000\".isalpha())\n",
    "print(\"Mooo\".isalpha())\n",
    "print(\"Monty Python\".isalpha()) # space character is not alphabet\n",
    "\n",
    "\n",
    "\"\"\"\n",
    "\n",
    "isdigit()\n",
    "looks at digits only – anything else produces False as the result.\n",
    "\n",
    "\"\"\"\n",
    "\n",
    "print('2023'.isdigit())\n",
    "print(\"Year2023\".isdigit())\n",
    "\n",
    "\n",
    "\"\"\"\n",
    "\n",
    "islower()\n",
    "a fussy variant of isalpha() – it accepts lower-case letters only.\n",
    "\n",
    "\"\"\"\n",
    "print(\"Moooo\".islower())\n",
    "print('moooo'.islower())\n",
    "\n",
    "\n",
    "\"\"\"\n",
    "\n",
    "isspace()\n",
    "method identifies whitespaces only – it disregards any other character\n",
    "\n",
    "\"\"\"\n",
    "\n",
    "print(' \\n '.isspace())\n",
    "print(\" \".isspace())\n",
    "print(\"mooo mooo mooo\".isspace())\n",
    "\n",
    "\n",
    "\"\"\"\n",
    "\n",
    "isupper()\n",
    "method is the upper-case version of islower() – it concentrates on upper-case letters only.\n",
    "\n",
    "\"\"\"\n",
    "print(\"Moooo\".isupper())\n",
    "print('moooo'.isupper())\n",
    "print('MOOOO'.isupper())"
   ]
  },
  {
   "cell_type": "code",
   "execution_count": null,
   "metadata": {},
   "outputs": [],
   "source": [
    "\"\"\"\n",
    "\n",
    "join()\n",
    "\n",
    "expects a list and throws a TypeException when the list elements are not strings\n",
    "\n",
    "\"\"\"\n",
    "\n",
    "print(\"-\".join([\"omicron\", \"pi\", \"rho\"]))  # separator '-'\n",
    "\n",
    "\n",
    "\"\"\"\n",
    "\n",
    "lower()\n",
    "\n",
    "makes a copy of a source string, replaces all upper-case letters with their lower-case counterparts, \n",
    "and returns the string as the result. Again, the source string remains untouched.\n",
    "\n",
    "\"\"\"\n",
    "\n",
    "print(\"SigMA=77\".lower())\n",
    "\n",
    "\"\"\"\n",
    "\n",
    "upper()\n",
    "\n",
    "makes a copy of the source string, \n",
    "replaces all lower-case letters with their upper-case counterparts, \n",
    "and returns the string as the result.\n",
    "\n",
    "\"\"\"\n",
    "\n",
    "print(\"I know that I know nothing. Part 2.\".upper())"
   ]
  },
  {
   "cell_type": "code",
   "execution_count": null,
   "metadata": {},
   "outputs": [],
   "source": [
    "\"\"\"\n",
    "\n",
    "lstrip()    - removes leading whitespaces\n",
    "rstrip()    - removes trailing whitespaces\n",
    "strip()     - has the effects of both the above\n",
    "\n",
    "removes whitespaces from a given string\n",
    "\n",
    "\"\"\"\n",
    "\n",
    "print(\"[\" + \" tau \".lstrip() + \"]\")  \n",
    "\n",
    "print(\"[\" + \" upsilon \".rstrip() + \"]\")\n",
    "print(\"cisco.com\".rstrip(\".com\"))\n",
    "\n",
    "print(\"[\" + \"   aleph   \".strip() + \"]\")"
   ]
  },
  {
   "cell_type": "code",
   "execution_count": null,
   "metadata": {},
   "outputs": [],
   "source": [
    "\"\"\"\n",
    "\n",
    "lstrip()    - removes leading whitespaces\n",
    "rstrip()    - removes trailing whitespaces\n",
    "strip()     - has the effects of both the above\n",
    "\n",
    "removes whitespaces from a given string\n",
    "\n",
    "\"\"\"\n",
    "\n",
    "print(\"[\" + \" tau \".lstrip() + \"]\")  \n",
    "\n",
    "print(\"[\" + \" upsilon \".rstrip() + \"]\")\n",
    "print(\"cisco.com\".rstrip(\".com\"))\n",
    "\n",
    "print(\"[\" + \"   aleph   \".strip() + \"]\")"
   ]
  },
  {
   "cell_type": "code",
   "execution_count": null,
   "metadata": {},
   "outputs": [],
   "source": [
    "\"\"\"\n",
    "\n",
    "endswith()\n",
    "\n",
    "The endswith() method checks if the given string ends \n",
    "with the specified argument and returns True or False, \n",
    "depending on the check result.\n",
    "\n",
    "\"\"\"\n",
    "if \"epsilon\".endswith(\"on\"):\n",
    "    print(\"yes\")\n",
    "else:\n",
    "    print(\"no\")\n",
    "\n",
    "\"\"\"\n",
    "\n",
    "startswith()\n",
    "\n",
    "it checks if a given string starts with the specified substring.\n",
    "\n",
    "\"\"\"\n",
    "print(\"omega\".startswith(\"meg\"))\n",
    "print(\"omega\".startswith(\"om\"))\n",
    "\n",
    "print()"
   ]
  },
  {
   "cell_type": "code",
   "execution_count": null,
   "metadata": {},
   "outputs": [],
   "source": [
    "\"\"\"\n",
    "The find() method is similar to index(), \n",
    "which you already know – \n",
    "it looks for a substring and returns the index of the first occurrence of this substring. \n",
    "\n",
    "\"\"\"\n",
    "# Demonstrating the find() method:\n",
    "print(\"Pneumonoultramicroscopicsilicovolcanoconiosis\".find(\"silico\"))\n",
    "print(\"Eta\".find(\"mma\")) # when the substring is not present, it gives -1 rather than generating an error.\n",
    "\n",
    "print('kappa'.find('a', 3)) # second parameter is from where the search is to be started\n",
    "\n",
    "the_text = \"\"\"A variation of the ordinary lorem ipsum\n",
    "text has been used in typesetting since the 1960s \n",
    "or earlier, when it was popularized by advertisements \n",
    "for Letraset transfer sheets. It was introduced to \n",
    "the Information Age in the mid-1980s by the Aldus Corporation, \n",
    "which employed it in graphics and word-processing templates\n",
    "for its desktop publishing program PageMaker (from Wikipedia)\"\"\"\n",
    "\n",
    "fnd = the_text.find('the')\n",
    "while fnd != -1:\n",
    "    print(fnd)\n",
    "    fnd = the_text.find('the', fnd + 1)\n",
    "    \n",
    "\"\"\"\n",
    "\n",
    "rfind()\n",
    "start their searches from the end of the string, not the beginning (hence the prefix r, for right).\n",
    "\n",
    "\"\"\"\n",
    "\n",
    "print(\"tau tau tau\".rfind(\"ta\"))\n",
    "print(\"tau tau tau\".rfind(\"ta\", 9))"
   ]
  },
  {
   "cell_type": "code",
   "execution_count": null,
   "metadata": {},
   "outputs": [],
   "source": [
    "\"\"\"\n",
    "\n",
    "split()\n",
    "it splits the string and builds a list of all detected substrings.\n",
    "\n",
    "The method assumes that the substrings are delimited by whitespaces – the spaces don't take part in the operation, \n",
    "and aren't copied into the resulting list.\n",
    "\n",
    "\"\"\"\n",
    "\n",
    "print(\"phi       chi\\npsi\".split())"
   ]
  },
  {
   "cell_type": "code",
   "execution_count": null,
   "metadata": {},
   "outputs": [],
   "source": [
    "\"\"\"\n",
    "swapcase()\n",
    "\n",
    "makes a new string by swapping the cases of all letters within the source string:\n",
    "lower-case characters become upper-case, and vice versa.\n",
    "\n",
    "\"\"\"\n",
    "\n",
    "print(\"I know that I know nothing.\".swapcase())\n",
    "print()\n",
    "\n",
    "\n",
    "\"\"\"\n",
    "\n",
    "title() - it changes every word's first letter to upper-case, turning all other ones to lower-case.\n",
    "\n",
    "\"\"\"\n",
    "\n",
    "print(\"I know that I know nothing. Part 1.\".title())\n",
    "print()"
   ]
  },
  {
   "cell_type": "markdown",
   "metadata": {},
   "source": [
    "string comparison\n",
    "compares code point values, character by character.\n",
    "\n",
    "- string == number is always False;\n",
    "- string != number is always True;\n",
    "- string >= number always raises an exception."
   ]
  },
  {
   "cell_type": "code",
   "execution_count": null,
   "metadata": {},
   "outputs": [],
   "source": [
    "'alpha' == 'alpha'\n",
    "'alpha' == 'Alpha' # comparing the first different character in both strings when they are same\n",
    "\n",
    "'alpha' < 'alphabet' # longer string is considered greater\n",
    " \n",
    "'beta' > 'Beta' # upper-case letters are taken as lesser than lower-case ones\n",
    "\n",
    "print('10' == '010')\n",
    "print('10' > '010')\n",
    "print('10' > '8')\n",
    "print('20' < '8')\n",
    "print('20' < '80')\n",
    "\n",
    "'10' == 10\n",
    "'10' != 10\n",
    "'10' == 1\n",
    "'10' != 1\n",
    "# Using any of the remaining\n",
    "# comparison operators will raise a TypeError exception.\n",
    "'10' > 10 "
   ]
  },
  {
   "cell_type": "markdown",
   "metadata": {},
   "source": [
    "sorting"
   ]
  },
  {
   "cell_type": "code",
   "execution_count": null,
   "metadata": {},
   "outputs": [],
   "source": [
    "greek = ['omega', 'alpha', 'pi', 'gamma']\n",
    "\n",
    "# method 1 : using sorted method, this will not affect the original list\n",
    "\n",
    "sorted_greek = sorted(greek) \n",
    "\n",
    "print(greek)\n",
    "print(sorted_greek)\n",
    "\n",
    "print()\n",
    "\n",
    "# method 2 : calling the .sort() method on the list which will modify the list itself\n",
    "\n",
    "sorted_by_sort = greek.sort()\n",
    "\n",
    "print(sorted_by_sort)"
   ]
  },
  {
   "cell_type": "markdown",
   "metadata": {},
   "source": [
    "strings vs numbers\n"
   ]
  },
  {
   "cell_type": "code",
   "execution_count": null,
   "metadata": {},
   "outputs": [],
   "source": [
    "itg = 13\n",
    "flt = 1.3\n",
    "si = str(itg)\n",
    "sf = str(flt)\n",
    "\n",
    "print(si + ' '+ sf)\n",
    "\n",
    "si = '13'\n",
    "sf = '1.3'\n",
    "itg = int(si)\n",
    "# The reverse transformation (string-number) is possible \n",
    "# when and only when the string represents a valid number. \n",
    "# If the condition is not met, expect a ValueError exception.\n",
    "flt = float(sf)\n",
    "\n",
    "print(itg + flt)"
   ]
  },
  {
   "cell_type": "code",
   "execution_count": null,
   "metadata": {},
   "outputs": [],
   "source": []
  },
  {
   "cell_type": "code",
   "execution_count": null,
   "metadata": {},
   "outputs": [],
   "source": []
  },
  {
   "cell_type": "code",
   "execution_count": null,
   "metadata": {},
   "outputs": [],
   "source": []
  },
  {
   "cell_type": "code",
   "execution_count": null,
   "metadata": {},
   "outputs": [],
   "source": []
  },
  {
   "cell_type": "code",
   "execution_count": null,
   "metadata": {},
   "outputs": [],
   "source": []
  },
  {
   "cell_type": "code",
   "execution_count": null,
   "metadata": {},
   "outputs": [],
   "source": []
  }
 ],
 "metadata": {
  "kernelspec": {
   "display_name": "Python 3",
   "language": "python",
   "name": "python3"
  },
  "language_info": {
   "codemirror_mode": {
    "name": "ipython",
    "version": 3
   },
   "file_extension": ".py",
   "mimetype": "text/x-python",
   "name": "python",
   "nbconvert_exporter": "python",
   "pygments_lexer": "ipython3",
   "version": "3.8.5"
  }
 },
 "nbformat": 4,
 "nbformat_minor": 4
}
